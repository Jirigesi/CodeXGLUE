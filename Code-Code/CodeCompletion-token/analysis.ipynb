{
 "cells": [
  {
   "cell_type": "code",
   "execution_count": 1,
   "metadata": {},
   "outputs": [],
   "source": [
    "preds = open(\"evaluator/predictions.txt\", \"r\").readlines()"
   ]
  },
  {
   "cell_type": "code",
   "execution_count": 3,
   "metadata": {},
   "outputs": [
    {
     "data": {
      "text/plain": [
       "8268"
      ]
     },
     "execution_count": 3,
     "metadata": {},
     "output_type": "execute_result"
    }
   ],
   "source": [
    "len(preds)"
   ]
  },
  {
   "cell_type": "code",
   "execution_count": 5,
   "metadata": {},
   "outputs": [],
   "source": [
    "gts = open(\"evaluator/answers.txt\", \"r\").readlines()"
   ]
  },
  {
   "cell_type": "code",
   "execution_count": 6,
   "metadata": {},
   "outputs": [
    {
     "data": {
      "text/plain": [
       "8268"
      ]
     },
     "execution_count": 6,
     "metadata": {},
     "output_type": "execute_result"
    }
   ],
   "source": [
    "len(gts)"
   ]
  },
  {
   "cell_type": "code",
   "execution_count": 8,
   "metadata": {},
   "outputs": [],
   "source": [
    "total = 0\n",
    "correct = 0.0\n",
    "    \n",
    "for pred, gt in zip(preds, gts):\n",
    "    pred = pred.split()\n",
    "    gt = gt.split()\n",
    "    assert len(pred) == len(gt), f\"Sequence length of prediction and answer are not equal, {len(pred)}: {len(gt)}\"\n",
    "    for x, y in zip(pred, gt):\n",
    "        if y not in [\"<s>\", \"</s>\", \"<EOL>\", \"<pad>\"]:\n",
    "            total += 1\n",
    "            if x == y:\n",
    "                correct += 1"
   ]
  },
  {
   "cell_type": "code",
   "execution_count": 9,
   "metadata": {},
   "outputs": [
    {
     "data": {
      "text/plain": [
       "4063328.0"
      ]
     },
     "execution_count": 9,
     "metadata": {},
     "output_type": "execute_result"
    }
   ],
   "source": [
    "correct"
   ]
  },
  {
   "cell_type": "code",
   "execution_count": 10,
   "metadata": {},
   "outputs": [
    {
     "data": {
      "text/plain": [
       "5315204"
      ]
     },
     "execution_count": 10,
     "metadata": {},
     "output_type": "execute_result"
    }
   ],
   "source": [
    "total"
   ]
  },
  {
   "cell_type": "code",
   "execution_count": 11,
   "metadata": {},
   "outputs": [
    {
     "data": {
      "text/plain": [
       "76.45"
      ]
     },
     "execution_count": 11,
     "metadata": {},
     "output_type": "execute_result"
    }
   ],
   "source": [
    "round(correct/total*100, 2)"
   ]
  },
  {
   "cell_type": "code",
   "execution_count": 30,
   "metadata": {},
   "outputs": [
    {
     "data": {
      "text/plain": [
       "'<s> public org . ec3 . uihl . uiim. . gui . import java . util . IOException ; import java . io . IOException ; import java . io . IOException ; import java . io . InputStream ; import java . vaadin . swemu . clara . demoara ; import org . vaadin . teemu . clara . Cl . inflater ; import org . vaadin . te ; import com . vaadin . te . Window ; import com . vaadin . terminal . Window ; import com . vaadin . ui . Button . ClickEvent ; import com . vaadin . ui . Button ; import com . vaadin . ui . Button Dialogs import com . vaadin . ui . Window ; import com . vaadin . ui . HorizontalLayoutPanel ; import com . vaadin . ui . HorizontalLayout ; import com . vaadin . ui . HorizontalLayout ; import com . vaadin . ui . VerticalLayout ; import com . vaadin . ui . Window . LayoutParams ; import SuppressWarnings ( \"unchecked\" ) public class Panel extends Abstract { private staticApplication demo ; private Button textArea ; private ButtonSplitPanel split Panel new HorizontalSplitPanel ( ) ; private Button windowWindow = private Sup public void onCreate ( ) { mainController ( newdefaulta\" ) ; mainWidthWindow ( mainWindow ) new Window ( ) ) ; main = new DemoController ( )Window ) ; controllerWindow . set ( xml ) ; main layout = new VerticalLayout ( ) ; editor . setContentWidth ( true ) ; editor . setWidth ( true ) false ) false ) false ) ; setContent . setMargin ( 0100%\" ) ; editor . set ( xmlArea ) newXmlArea ( ) ) ; editor . setSpacingRatio ( 1Area , 0.0f ) ; editor . set ( splitXmlButton ( ) ) ; editor layout = new HorizontalLayout ( ) ; wrapper . setSpacing ( false , ; wrapper . setFull ( true ; wrapper . set ( splitSplit Button ) ) ; editor . set ( create ) ; main . setExpandRatio ( xml , 1.0f ) ; main . addExpand ( wrapper ) ; mainButton ( ) ; main @ void createXml ( ) { return embedded = new Embedded ( ) ) null ImageResource ( ) ) ) ; logo . setTheme ( \"100%\" ) ; logo . setWidth ( \"100px\" ) ; logo logo ; } private void createXmlArea ( ) { return textArea = new TextArea ( ) ; area . setWidth ( \"textAreaarea\" ) ; area . setFull ( true ; area . set ( \"Xml ( ) ) ; area area ; } private Button createUpdateButton ( ) { Button new Button ( )update\" ) new Theme ( ClickEvent ( ) { @ void buttonClick ( ClickEvent event ) { update ( ) ; } } ) ; } private Button readStartingPoint ( ) { return reader = null ; try { reader = new BufferedReader ( new InputStreamReader ( getClass ( ) . getResourceAsStream ( ) . getResourceAsStream ( \"\" ) ) ) ; String sb = new StringBuilder ( ) ; String line = while ( ( line = reader . readLine ( ) ) != null ) { xml . append ( line ) ; } . append ( \\'\\\\n\" ) ; } reader xml . toString ( ) ; } catch ( IOException e ) { throw . printStackTrace ( ) ; } finally { if ( reader != null ) { try { reader . close ( ) ; } catch ( IOException e ) { } . printStackTrace ( ) ; } } } return null ; } } Button updateLayout ( ) { VerticalLayout { VerticalLayout component = newara . create Cl null Theme ( xmlArea . getBytes ( ) ) getBytes ( ) . getBytes ( \" ) ) null ) ; VerticalLayout . setFirst ( c . getComponent ( ) , c ) ; } catch ( IOExceptionException e ) { eWindow . showError ( \"\" . getMessage ( ) , \"\" . TYPE_ERROR_MESSAGE ) ; } catch private </s>\\n'"
      ]
     },
     "execution_count": 30,
     "metadata": {},
     "output_type": "execute_result"
    }
   ],
   "source": [
    "preds[0]"
   ]
  },
  {
   "cell_type": "code",
   "execution_count": 19,
   "metadata": {},
   "outputs": [],
   "source": [
    "test = open(\"dataset/javaCorpus/token_completion/test.txt\", \"r\").readlines()"
   ]
  },
  {
   "cell_type": "code",
   "execution_count": 28,
   "metadata": {},
   "outputs": [
    {
     "data": {
      "text/plain": [
       "'<s> package org . vaadin . teemu . clara . demo ; import java . io . BufferedReader ; import java . io . ByteArrayInputStream ; import java . io . IOException ; import java . io . InputStreamReader ; import org . vaadin . teemu . clara . Clara ; import org . vaadin . teemu . clara . inflater . LayoutInflaterException ; import com . vaadin . Application ; import com . vaadin . terminal . ThemeResource ; import com . vaadin . ui . Button ; import com . vaadin . ui . Button . ClickEvent ; import com . vaadin . ui . Component ; import com . vaadin . ui . Embedded ; import com . vaadin . ui . HorizontalLayout ; import com . vaadin . ui . HorizontalSplitPanel ; import com . vaadin . ui . TextArea ; import com . vaadin . ui . VerticalLayout ; import com . vaadin . ui . Window ; import com . vaadin . ui . Window . Notification ; @ SuppressWarnings ( \"serial\" ) public class DemoApplication extends Application { private DemoController controller ; private TextArea xmlArea ; private HorizontalSplitPanel split = new HorizontalSplitPanel ( ) ; private Window mainWindow ; @ Override public void init ( ) { setTheme ( \"clara\" ) ; setMainWindow ( mainWindow = new Window ( ) ) ; controller = new DemoController ( mainWindow ) ; mainWindow . setContent ( split ) ; VerticalLayout editor = new VerticalLayout ( ) ; editor . setSpacing ( true ) ; editor . setMargin ( false , false , false , true ) ; editor . setHeight ( \"100%\" ) ; editor . addComponent ( xmlArea = createXmlArea ( ) ) ; editor . setExpandRatio ( xmlArea , 1.0f ) ; editor . addComponent ( createUpdateButton ( ) ) ; HorizontalLayout wrapper = new HorizontalLayout ( ) ; wrapper . setMargin ( true ) ; wrapper . setSizeFull ( ) ; wrapper . addComponent ( createLogo ( ) ) ; wrapper . addComponent ( editor ) ; wrapper . setExpandRatio ( editor , 1.0f ) ; split . setFirstComponent ( wrapper ) ; updateLayout ( ) ; } private Component createLogo ( ) { Embedded logo = new Embedded ( null , new ThemeResource ( \"\" ) ) ; logo . setHeight ( \"90px\" ) ; logo . setWidth ( \"90px\" ) ; return logo ; } private TextArea createXmlArea ( ) { TextArea area = new TextArea ( ) ; area . setStyleName ( \"xml-area\" ) ; area . setSizeFull ( ) ; area . setValue ( readStartingPoint ( ) ) ; return area ; } private Button createUpdateButton ( ) { return new Button ( \"Update\" , new Button . ClickListener ( ) { public void buttonClick ( ClickEvent event ) { updateLayout ( ) ; } } ) ; } private String readStartingPoint ( ) { BufferedReader reader = null ; try { reader = new BufferedReader ( new InputStreamReader ( getClass ( ) . getClassLoader ( ) . getResourceAsStream ( \"\" ) ) ) ; StringBuilder xml = new StringBuilder ( ) ; String line ; while ( ( line = reader . readLine ( ) ) != null ) { xml . append ( line ) ; xml . append ( \"n\" ) ; } return xml . toString ( ) ; } catch ( IOException e ) { e . printStackTrace ( ) ; } finally { if ( reader != null ) { try { reader . close ( ) ; } catch ( IOException e ) { e . printStackTrace ( ) ; } } } return null ; } private void updateLayout ( ) { try { Component c = Clara . create ( new ByteArrayInputStream ( xmlArea . getValue ( ) . toString ( ) . getBytes ( ) ) , controller ) ; split . replaceComponent ( split . getSecondComponent ( ) , c ) ; } catch ( LayoutInflaterException e ) { mainWindow . showNotification ( e . getMessage ( ) , Notification . TYPE_ERROR_MESSAGE ) ; } } } </s>\\n'"
      ]
     },
     "execution_count": 28,
     "metadata": {},
     "output_type": "execute_result"
    }
   ],
   "source": [
    "gts[0]"
   ]
  },
  {
   "cell_type": "code",
   "execution_count": 29,
   "metadata": {},
   "outputs": [
    {
     "data": {
      "text/plain": [
       "'<s> package org . vaadin . teemu . clara . demo ; import java . io . BufferedReader ; import java . io . ByteArrayInputStream ; import java . io . IOException ; import java . io . InputStreamReader ; import org . vaadin . teemu . clara . Clara ; import org . vaadin . teemu . clara . inflater . LayoutInflaterException ; import com . vaadin . Application ; import com . vaadin . terminal . ThemeResource ; import com . vaadin . ui . Button ; import com . vaadin . ui . Button . ClickEvent ; import com . vaadin . ui . Component ; import com . vaadin . ui . Embedded ; import com . vaadin . ui . HorizontalLayout ; import com . vaadin . ui . HorizontalSplitPanel ; import com . vaadin . ui . TextArea ; import com . vaadin . ui . VerticalLayout ; import com . vaadin . ui . Window ; import com . vaadin . ui . Window . Notification ; @ SuppressWarnings ( \"<STR_LIT:serial>\" ) public class DemoApplication extends Application { private DemoController controller ; private TextArea xmlArea ; private HorizontalSplitPanel split = new HorizontalSplitPanel ( ) ; private Window mainWindow ; @ Override public void init ( ) { setTheme ( \"<STR_LIT>\" ) ; setMainWindow ( mainWindow = new Window ( ) ) ; controller = new DemoController ( mainWindow ) ; mainWindow . setContent ( split ) ; VerticalLayout editor = new VerticalLayout ( ) ; editor . setSpacing ( true ) ; editor . setMargin ( false , false , false , true ) ; editor . setHeight ( \"<STR_LIT>\" ) ; editor . addComponent ( xmlArea = createXmlArea ( ) ) ; editor . setExpandRatio ( xmlArea , <NUM_LIT:1.0f> ) ; editor . addComponent ( createUpdateButton ( ) ) ; HorizontalLayout wrapper = new HorizontalLayout ( ) ; wrapper . setMargin ( true ) ; wrapper . setSizeFull ( ) ; wrapper . addComponent ( createLogo ( ) ) ; wrapper . addComponent ( editor ) ; wrapper . setExpandRatio ( editor , <NUM_LIT:1.0f> ) ; split . setFirstComponent ( wrapper ) ; updateLayout ( ) ; } private Component createLogo ( ) { Embedded logo = new Embedded ( null , new ThemeResource ( \"<STR_LIT>\" ) ) ; logo . setHeight ( \"<STR_LIT>\" ) ; logo . setWidth ( \"<STR_LIT>\" ) ; return logo ; } private TextArea createXmlArea ( ) { TextArea area = new TextArea ( ) ; area . setStyleName ( \"<STR_LIT>\" ) ; area . setSizeFull ( ) ; area . setValue ( readStartingPoint ( ) ) ; return area ; } private Button createUpdateButton ( ) { return new Button ( \"<STR_LIT>\" , new Button . ClickListener ( ) { public void buttonClick ( ClickEvent event ) { updateLayout ( ) ; } } ) ; } private String readStartingPoint ( ) { BufferedReader reader = null ; try { reader = new BufferedReader ( new InputStreamReader ( getClass ( ) . getClassLoader ( ) . getResourceAsStream ( \"<STR_LIT>\" ) ) ) ; StringBuilder xml = new StringBuilder ( ) ; String line ; while ( ( line = reader . readLine ( ) ) != null ) { xml . append ( line ) ; xml . append ( \"<STR_LIT:n>\" ) ; } return xml . toString ( ) ; } catch ( IOException e ) { e . printStackTrace ( ) ; } finally { if ( reader != null ) { try { reader . close ( ) ; } catch ( IOException e ) { e . printStackTrace ( ) ; } } } return null ; } private void updateLayout ( ) { try { Component c = Clara . create ( new ByteArrayInputStream ( xmlArea . getValue ( ) . toString ( ) . getBytes ( ) ) , controller ) ; split . replaceComponent ( split . getSecondComponent ( ) , c ) ; } catch ( LayoutInflaterException e ) { mainWindow . showNotification ( e . getMessage ( ) , Notification . TYPE_ERROR_MESSAGE ) ; } } } </s>\\n'"
      ]
     },
     "execution_count": 29,
     "metadata": {},
     "output_type": "execute_result"
    }
   ],
   "source": [
    "test[0]"
   ]
  },
  {
   "cell_type": "code",
   "execution_count": 21,
   "metadata": {},
   "outputs": [
    {
     "ename": "AssertionError",
     "evalue": "Sequence length of prediction and answer are not equal, 376: 377",
     "output_type": "error",
     "traceback": [
      "\u001b[0;31m---------------------------------------------------------------------------\u001b[0m",
      "\u001b[0;31mAssertionError\u001b[0m                            Traceback (most recent call last)",
      "\u001b[1;32m/home/fjiriges/CodeXGLUE/Code-Code/CodeCompletion-token/analysis.ipynb Cell 13\u001b[0m in \u001b[0;36m<cell line: 4>\u001b[0;34m()\u001b[0m\n\u001b[1;32m      <a href='vscode-notebook-cell://ssh-remote%2Bpyxis.ics.uci.edu/home/fjiriges/CodeXGLUE/Code-Code/CodeCompletion-token/analysis.ipynb#X15sdnNjb2RlLXJlbW90ZQ%3D%3D?line=4'>5</a>\u001b[0m pred \u001b[39m=\u001b[39m pred\u001b[39m.\u001b[39msplit()\n\u001b[1;32m      <a href='vscode-notebook-cell://ssh-remote%2Bpyxis.ics.uci.edu/home/fjiriges/CodeXGLUE/Code-Code/CodeCompletion-token/analysis.ipynb#X15sdnNjb2RlLXJlbW90ZQ%3D%3D?line=5'>6</a>\u001b[0m gt \u001b[39m=\u001b[39m gt\u001b[39m.\u001b[39msplit()\n\u001b[0;32m----> <a href='vscode-notebook-cell://ssh-remote%2Bpyxis.ics.uci.edu/home/fjiriges/CodeXGLUE/Code-Code/CodeCompletion-token/analysis.ipynb#X15sdnNjb2RlLXJlbW90ZQ%3D%3D?line=6'>7</a>\u001b[0m \u001b[39massert\u001b[39;00m \u001b[39mlen\u001b[39m(pred) \u001b[39m==\u001b[39m \u001b[39mlen\u001b[39m(gt), \u001b[39mf\u001b[39m\u001b[39m\"\u001b[39m\u001b[39mSequence length of prediction and answer are not equal, \u001b[39m\u001b[39m{\u001b[39;00m\u001b[39mlen\u001b[39m(pred)\u001b[39m}\u001b[39;00m\u001b[39m: \u001b[39m\u001b[39m{\u001b[39;00m\u001b[39mlen\u001b[39m(gt)\u001b[39m}\u001b[39;00m\u001b[39m\"\u001b[39m\n\u001b[1;32m      <a href='vscode-notebook-cell://ssh-remote%2Bpyxis.ics.uci.edu/home/fjiriges/CodeXGLUE/Code-Code/CodeCompletion-token/analysis.ipynb#X15sdnNjb2RlLXJlbW90ZQ%3D%3D?line=7'>8</a>\u001b[0m \u001b[39mfor\u001b[39;00m x, y \u001b[39min\u001b[39;00m \u001b[39mzip\u001b[39m(pred, gt):\n\u001b[1;32m      <a href='vscode-notebook-cell://ssh-remote%2Bpyxis.ics.uci.edu/home/fjiriges/CodeXGLUE/Code-Code/CodeCompletion-token/analysis.ipynb#X15sdnNjb2RlLXJlbW90ZQ%3D%3D?line=8'>9</a>\u001b[0m     \u001b[39mif\u001b[39;00m y \u001b[39mnot\u001b[39;00m \u001b[39min\u001b[39;00m [\u001b[39m\"\u001b[39m\u001b[39m<s>\u001b[39m\u001b[39m\"\u001b[39m, \u001b[39m\"\u001b[39m\u001b[39m</s>\u001b[39m\u001b[39m\"\u001b[39m, \u001b[39m\"\u001b[39m\u001b[39m<EOL>\u001b[39m\u001b[39m\"\u001b[39m, \u001b[39m\"\u001b[39m\u001b[39m<pad>\u001b[39m\u001b[39m\"\u001b[39m]:\n",
      "\u001b[0;31mAssertionError\u001b[0m: Sequence length of prediction and answer are not equal, 376: 377"
     ]
    }
   ],
   "source": [
    "total = 0\n",
    "correct = 0.0\n",
    "    \n",
    "for pred, gt in zip(test, gts):\n",
    "    pred = pred.split()\n",
    "    gt = gt.split()\n",
    "    assert len(pred) == len(gt), f\"Sequence length of prediction and answer are not equal, {len(pred)}: {len(gt)}\"\n",
    "    for x, y in zip(pred, gt):\n",
    "        if y not in [\"<s>\", \"</s>\", \"<EOL>\", \"<pad>\"]:\n",
    "            total += 1\n",
    "            if x == y:\n",
    "                correct += 1"
   ]
  },
  {
   "cell_type": "code",
   "execution_count": null,
   "metadata": {},
   "outputs": [],
   "source": []
  }
 ],
 "metadata": {
  "kernelspec": {
   "display_name": "Python 3.8.13 ('cuBERT')",
   "language": "python",
   "name": "python3"
  },
  "language_info": {
   "codemirror_mode": {
    "name": "ipython",
    "version": 3
   },
   "file_extension": ".py",
   "mimetype": "text/x-python",
   "name": "python",
   "nbconvert_exporter": "python",
   "pygments_lexer": "ipython3",
   "version": "3.8.13"
  },
  "orig_nbformat": 4,
  "vscode": {
   "interpreter": {
    "hash": "8492d8711f92acbd6f1f5de70669e0e0dfa9ae8288673c2cd77f66771fab39c9"
   }
  }
 },
 "nbformat": 4,
 "nbformat_minor": 2
}
